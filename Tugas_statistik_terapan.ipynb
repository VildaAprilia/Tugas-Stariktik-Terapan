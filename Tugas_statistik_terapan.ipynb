{
  "nbformat": 4,
  "nbformat_minor": 0,
  "metadata": {
    "colab": {
      "provenance": [],
      "include_colab_link": true
    },
    "kernelspec": {
      "name": "python3",
      "display_name": "Python 3"
    },
    "language_info": {
      "name": "python"
    }
  },
  "cells": [
    {
      "cell_type": "markdown",
      "metadata": {
        "id": "view-in-github",
        "colab_type": "text"
      },
      "source": [
        "<a href=\"https://colab.research.google.com/github/VildaAprilia/Tugas-Stariktik-Terapan/blob/main/Tugas_statistik_terapan.ipynb\" target=\"_parent\"><img src=\"https://colab.research.google.com/assets/colab-badge.svg\" alt=\"Open In Colab\"/></a>"
      ]
    },
    {
      "cell_type": "code",
      "source": [
        "import csv\n",
        "\n",
        "header = ['tahun','jenis_ternak','jumlah_peternak','satuan_peternak']\n",
        "data = [\n",
        "    [2010, 'Sapi perah'  , 127,'orang'],\n",
        "    [2010,'Sapi potong',0,'orang'],\n",
        "    [2010,'Kerbau',12,'orang'],\n",
        "    [2010,'Kambing/ Domba',362,'orang'],\n",
        "    [2010,'Ayam ras',14,'orang'],\n",
        "    [2010,'Itik',104,'orang'],\n",
        "    [2011,'Sapi perah'  ,135,'orang'],\n",
        "    [2011,'Sapi potong',0,'orang'],\n",
        "    [2011,'Kerbau',15,'orang'],\n",
        "    [2011,'Kambing/Domba',340,'orang'],\n",
        "    [2011,'Ayamras',13,'orang'],\n",
        "    [2011,'Itik',87,'orang'],\n",
        "    [2012,'Sapi perah'  ,116,'orang'],\n",
        "    [2012,'Sapi potong',92,'orang'],\n",
        "    [2012,'Kerbau',24,'orang'],\n",
        "    [2012,'Kambing/ Domba',564,'orang'],\n",
        "    [2012,'Ayam ras',15,'orang'],\n",
        "    [2012,'Itik',114,'orang'],\n",
        "    [2013,'Sapi perah'  ,133,'orang'],\n",
        "    [2013,'Sapi potong',200,'orang'],\n",
        "    [2013,'Kerbau',48,'orang'],\n",
        "    [2013,'Kambing/ Domba',496,'orang'],\n",
        "    [2013,'Ayam ras',0,'orang'],\n",
        "    [2013,'Itik',301,'orang'],\n",
        "    [2014,'Sapi perah'  ,113,'orang'],\n",
        "    [2015,'Sapi perah'  ,115,'orang'],\n",
        "    [2016,'Sapi perah'  ,87,'orang'],\n",
        "    [2017,'Sapi perah'  ,87,'orang']\n",
        "]\n",
        "\n",
        "with open('datasetternak.csv', 'w', encoding='UTF8', newline='') as f:\n",
        "    writer = csv.writer(f)\n",
        "\n",
        "    # write the header\n",
        "    writer.writerow(header)\n",
        "\n",
        "    # write multiple rows\n",
        "    writer.writerows(data)"
      ],
      "metadata": {
        "id": "Gzy3HbR2CcVT"
      },
      "execution_count": null,
      "outputs": []
    },
    {
      "cell_type": "code",
      "source": [
        "import pandas as pan\n",
        "import numpy as num\n",
        "import statistics\n",
        "dataset = pan.read_csv(\"datasetternak.csv\")\n",
        "dataset.head()"
      ],
      "metadata": {
        "colab": {
          "base_uri": "https://localhost:8080/",
          "height": 215
        },
        "id": "H57JH6yWS2XO",
        "outputId": "2ffd49ca-310a-4cca-dd9e-6a97142ffbfb"
      },
      "execution_count": null,
      "outputs": [
        {
          "output_type": "execute_result",
          "data": {
            "text/plain": [
              "   tahun    jenis_ternak  jumlah_peternak satuan_peternak\n",
              "0   2010      Sapi perah              127           orang\n",
              "1   2010     Sapi potong                0           orang\n",
              "2   2010          Kerbau               12           orang\n",
              "3   2010  Kambing/ Domba              362           orang\n",
              "4   2010        Ayam ras               14           orang"
            ],
            "text/html": [
              "\n",
              "  <div id=\"df-1d5b14d5-994e-4f48-ac6a-17c1854f7866\">\n",
              "    <div class=\"colab-df-container\">\n",
              "      <div>\n",
              "<style scoped>\n",
              "    .dataframe tbody tr th:only-of-type {\n",
              "        vertical-align: middle;\n",
              "    }\n",
              "\n",
              "    .dataframe tbody tr th {\n",
              "        vertical-align: top;\n",
              "    }\n",
              "\n",
              "    .dataframe thead th {\n",
              "        text-align: right;\n",
              "    }\n",
              "</style>\n",
              "<table border=\"1\" class=\"dataframe\">\n",
              "  <thead>\n",
              "    <tr style=\"text-align: right;\">\n",
              "      <th></th>\n",
              "      <th>tahun</th>\n",
              "      <th>jenis_ternak</th>\n",
              "      <th>jumlah_peternak</th>\n",
              "      <th>satuan_peternak</th>\n",
              "    </tr>\n",
              "  </thead>\n",
              "  <tbody>\n",
              "    <tr>\n",
              "      <th>0</th>\n",
              "      <td>2010</td>\n",
              "      <td>Sapi perah</td>\n",
              "      <td>127</td>\n",
              "      <td>orang</td>\n",
              "    </tr>\n",
              "    <tr>\n",
              "      <th>1</th>\n",
              "      <td>2010</td>\n",
              "      <td>Sapi potong</td>\n",
              "      <td>0</td>\n",
              "      <td>orang</td>\n",
              "    </tr>\n",
              "    <tr>\n",
              "      <th>2</th>\n",
              "      <td>2010</td>\n",
              "      <td>Kerbau</td>\n",
              "      <td>12</td>\n",
              "      <td>orang</td>\n",
              "    </tr>\n",
              "    <tr>\n",
              "      <th>3</th>\n",
              "      <td>2010</td>\n",
              "      <td>Kambing/ Domba</td>\n",
              "      <td>362</td>\n",
              "      <td>orang</td>\n",
              "    </tr>\n",
              "    <tr>\n",
              "      <th>4</th>\n",
              "      <td>2010</td>\n",
              "      <td>Ayam ras</td>\n",
              "      <td>14</td>\n",
              "      <td>orang</td>\n",
              "    </tr>\n",
              "  </tbody>\n",
              "</table>\n",
              "</div>\n",
              "      <button class=\"colab-df-convert\" onclick=\"convertToInteractive('df-1d5b14d5-994e-4f48-ac6a-17c1854f7866')\"\n",
              "              title=\"Convert this dataframe to an interactive table.\"\n",
              "              style=\"display:none;\">\n",
              "        \n",
              "  <svg xmlns=\"http://www.w3.org/2000/svg\" height=\"24px\"viewBox=\"0 0 24 24\"\n",
              "       width=\"24px\">\n",
              "    <path d=\"M0 0h24v24H0V0z\" fill=\"none\"/>\n",
              "    <path d=\"M18.56 5.44l.94 2.06.94-2.06 2.06-.94-2.06-.94-.94-2.06-.94 2.06-2.06.94zm-11 1L8.5 8.5l.94-2.06 2.06-.94-2.06-.94L8.5 2.5l-.94 2.06-2.06.94zm10 10l.94 2.06.94-2.06 2.06-.94-2.06-.94-.94-2.06-.94 2.06-2.06.94z\"/><path d=\"M17.41 7.96l-1.37-1.37c-.4-.4-.92-.59-1.43-.59-.52 0-1.04.2-1.43.59L10.3 9.45l-7.72 7.72c-.78.78-.78 2.05 0 2.83L4 21.41c.39.39.9.59 1.41.59.51 0 1.02-.2 1.41-.59l7.78-7.78 2.81-2.81c.8-.78.8-2.07 0-2.86zM5.41 20L4 18.59l7.72-7.72 1.47 1.35L5.41 20z\"/>\n",
              "  </svg>\n",
              "      </button>\n",
              "      \n",
              "  <style>\n",
              "    .colab-df-container {\n",
              "      display:flex;\n",
              "      flex-wrap:wrap;\n",
              "      gap: 12px;\n",
              "    }\n",
              "\n",
              "    .colab-df-convert {\n",
              "      background-color: #E8F0FE;\n",
              "      border: none;\n",
              "      border-radius: 50%;\n",
              "      cursor: pointer;\n",
              "      display: none;\n",
              "      fill: #1967D2;\n",
              "      height: 32px;\n",
              "      padding: 0 0 0 0;\n",
              "      width: 32px;\n",
              "    }\n",
              "\n",
              "    .colab-df-convert:hover {\n",
              "      background-color: #E2EBFA;\n",
              "      box-shadow: 0px 1px 2px rgba(60, 64, 67, 0.3), 0px 1px 3px 1px rgba(60, 64, 67, 0.15);\n",
              "      fill: #174EA6;\n",
              "    }\n",
              "\n",
              "    [theme=dark] .colab-df-convert {\n",
              "      background-color: #3B4455;\n",
              "      fill: #D2E3FC;\n",
              "    }\n",
              "\n",
              "    [theme=dark] .colab-df-convert:hover {\n",
              "      background-color: #434B5C;\n",
              "      box-shadow: 0px 1px 3px 1px rgba(0, 0, 0, 0.15);\n",
              "      filter: drop-shadow(0px 1px 2px rgba(0, 0, 0, 0.3));\n",
              "      fill: #FFFFFF;\n",
              "    }\n",
              "  </style>\n",
              "\n",
              "      <script>\n",
              "        const buttonEl =\n",
              "          document.querySelector('#df-1d5b14d5-994e-4f48-ac6a-17c1854f7866 button.colab-df-convert');\n",
              "        buttonEl.style.display =\n",
              "          google.colab.kernel.accessAllowed ? 'block' : 'none';\n",
              "\n",
              "        async function convertToInteractive(key) {\n",
              "          const element = document.querySelector('#df-1d5b14d5-994e-4f48-ac6a-17c1854f7866');\n",
              "          const dataTable =\n",
              "            await google.colab.kernel.invokeFunction('convertToInteractive',\n",
              "                                                     [key], {});\n",
              "          if (!dataTable) return;\n",
              "\n",
              "          const docLinkHtml = 'Like what you see? Visit the ' +\n",
              "            '<a target=\"_blank\" href=https://colab.research.google.com/notebooks/data_table.ipynb>data table notebook</a>'\n",
              "            + ' to learn more about interactive tables.';\n",
              "          element.innerHTML = '';\n",
              "          dataTable['output_type'] = 'display_data';\n",
              "          await google.colab.output.renderOutput(dataTable, element);\n",
              "          const docLink = document.createElement('div');\n",
              "          docLink.innerHTML = docLinkHtml;\n",
              "          element.appendChild(docLink);\n",
              "        }\n",
              "      </script>\n",
              "    </div>\n",
              "  </div>\n",
              "  "
            ]
          },
          "metadata": {},
          "execution_count": 132
        }
      ]
    },
    {
      "cell_type": "code",
      "source": [
        "dataset.shape"
      ],
      "metadata": {
        "colab": {
          "base_uri": "https://localhost:8080/"
        },
        "id": "ZztzSgPZS_hB",
        "outputId": "da634cc0-9990-4238-dbbf-f26ba887a05e"
      },
      "execution_count": null,
      "outputs": [
        {
          "output_type": "execute_result",
          "data": {
            "text/plain": [
              "(28, 4)"
            ]
          },
          "metadata": {},
          "execution_count": 133
        }
      ]
    },
    {
      "cell_type": "code",
      "source": [
        "print(dataset.isnull().sum())"
      ],
      "metadata": {
        "colab": {
          "base_uri": "https://localhost:8080/"
        },
        "id": "vYwy1OFtTCfv",
        "outputId": "45cbd5e2-5f6d-49c4-8308-8240a7caaa41"
      },
      "execution_count": null,
      "outputs": [
        {
          "output_type": "stream",
          "name": "stdout",
          "text": [
            "tahun              0\n",
            "jenis_ternak       0\n",
            "jumlah_peternak    0\n",
            "satuan_peternak    0\n",
            "dtype: int64\n"
          ]
        }
      ]
    },
    {
      "cell_type": "code",
      "source": [
        "dataset.dropna(inplace=True)\n",
        "print(dataset.isnull().sum())"
      ],
      "metadata": {
        "colab": {
          "base_uri": "https://localhost:8080/"
        },
        "id": "5p5rYT7kTGIT",
        "outputId": "1876e282-3c40-4ad6-ee72-59280923cb56"
      },
      "execution_count": null,
      "outputs": [
        {
          "output_type": "stream",
          "name": "stdout",
          "text": [
            "tahun              0\n",
            "jenis_ternak       0\n",
            "jumlah_peternak    0\n",
            "satuan_peternak    0\n",
            "dtype: int64\n"
          ]
        }
      ]
    },
    {
      "cell_type": "code",
      "source": [
        "dataset[\"tahun\"] = dataset[\"tahun\"].replace(num.NaN, dataset[\"tahun\"].mean())\n",
        "print(dataset[\"tahun\"][:10])"
      ],
      "metadata": {
        "colab": {
          "base_uri": "https://localhost:8080/"
        },
        "id": "eEGO7zl7TLb6",
        "outputId": "af3f9623-c88f-4054-c5de-4feed9d3f006"
      },
      "execution_count": null,
      "outputs": [
        {
          "output_type": "stream",
          "name": "stdout",
          "text": [
            "0    2010\n",
            "1    2010\n",
            "2    2010\n",
            "3    2010\n",
            "4    2010\n",
            "5    2010\n",
            "6    2011\n",
            "7    2011\n",
            "8    2011\n",
            "9    2011\n",
            "Name: tahun, dtype: int64\n"
          ]
        }
      ]
    },
    {
      "cell_type": "code",
      "execution_count": null,
      "metadata": {
        "colab": {
          "base_uri": "https://localhost:8080/",
          "height": 295
        },
        "id": "VUDtyUPEBusb",
        "outputId": "a592f94e-f430-4df1-f4ba-a7616ff16d13"
      },
      "outputs": [
        {
          "output_type": "display_data",
          "data": {
            "text/plain": [
              "<Figure size 432x288 with 1 Axes>"
            ],
            "image/png": "[encoded data removed]"
          },
          "metadata": {
            "needs_background": "light"
          }
        }
      ],
      "source": [
        "import matplotlib.pyplot as plt\n",
        "\n",
        "sample= [127,301,110,220,113,700,116,135]\n",
        "plt.boxplot(sample, vert=False)\n",
        "plt.title(\"Detecting outliers using Boxplot\")\n",
        "plt.xlabel('Sample')\n",
        "plt.show()\n",
        "plt.show(sample)"
      ]
    },
    {
      "cell_type": "code",
      "source": [
        "import numpy as np\n",
        "outliers = []\n",
        "def detect_outliers_zscore(data):\n",
        "    a = 2\n",
        "    mean = np.mean(data)\n",
        "    std = np.std(data)\n",
        "    # print(mode, std)\n",
        "    for i in data:\n",
        "        z_score = (i-mean)/std\n",
        "        if (np.abs(z_score) > a):\n",
        "            outliers.append(i)\n",
        "    return outliers# Driver code\n",
        "sample_outliers = detect_outliers_zscore(sample)\n",
        "print(\"Outliers from Z-scores method: \", sample_outliers)"
      ],
      "metadata": {
        "colab": {
          "base_uri": "https://localhost:8080/"
        },
        "id": "WkySF4teC4VG",
        "outputId": "502e70d6-7c15-4e8a-cbb7-9a0c17362a02"
      },
      "execution_count": null,
      "outputs": [
        {
          "output_type": "stream",
          "name": "stdout",
          "text": [
            "Outliers from Z-scores method:  [700]\n"
          ]
        }
      ]
    },
    {
      "cell_type": "code",
      "source": [
        "outliers = []\n",
        "def detect_outliers_iqr(data):\n",
        "    data = sorted(data)\n",
        "    q1 = np.percentile(data, 25)\n",
        "    q3 = np.percentile(data, 75)\n",
        "    # print(q1, q3)\n",
        "    IQR = q3-q1\n",
        "    lwr_bound = q1-(1.5*IQR)\n",
        "    upr_bound = q3+(1.5*IQR)\n",
        "    # print(lwr_bound, upr_bound)\n",
        "    for i in data: \n",
        "        if (i<lwr_bound or i>upr_bound):\n",
        "            outliers.append(i)\n",
        "    return outliers# Driver code\n",
        "sample_outliers = detect_outliers_iqr(sample)\n",
        "print(\"Outliers from IQR method: \", sample_outliers)"
      ],
      "metadata": {
        "colab": {
          "base_uri": "https://localhost:8080/"
        },
        "id": "8yMPoRm2DEMG",
        "outputId": "7971b02b-defa-455c-a75f-b88673e98a78"
      },
      "execution_count": null,
      "outputs": [
        {
          "output_type": "stream",
          "name": "stdout",
          "text": [
            "Outliers from IQR method:  [700]\n"
          ]
        }
      ]
    },
    {
      "cell_type": "code",
      "source": [
        "# Trimming\n",
        "for i in sample_outliers:\n",
        "  #a = sample\n",
        "  #a.remove(i)\n",
        "  #print(a)\n",
        "    a = np.delete(sample, np.where(sample==i))\n",
        "print(a)\n",
        "print(len(sample), len(a))"
      ],
      "metadata": {
        "colab": {
          "base_uri": "https://localhost:8080/"
        },
        "id": "iaurtpMCEBGO",
        "outputId": "41ab8455-78a3-42dc-8436-f7dca211c148"
      },
      "execution_count": null,
      "outputs": [
        {
          "output_type": "stream",
          "name": "stdout",
          "text": [
            "[127 301 110 220 113 116 135]\n",
            "7 7\n"
          ]
        }
      ]
    },
    {
      "cell_type": "code",
      "source": [
        "# Computing 10th, 90th percentiles and replacing the outliers\n",
        "tenth_percentile = np.percentile(sample, 10)\n",
        "ninetieth_percentile = np.percentile(sample, 90)\n",
        "print(tenth_percentile, ninetieth_percentile)\n",
        "b = np.where(sample<tenth_percentile, tenth_percentile, sample)\n",
        "b = np.where(a>ninetieth_percentile, ninetieth_percentile, b)\n",
        "# print(\"Sample:\", sample)\n",
        "print(\"New array:\",b)"
      ],
      "metadata": {
        "colab": {
          "base_uri": "https://localhost:8080/"
        },
        "id": "Qqt7RlCJEuM4",
        "outputId": "1fa536d7-1595-438a-8878-5612d6af28a2"
      },
      "execution_count": null,
      "outputs": [
        {
          "output_type": "stream",
          "name": "stdout",
          "text": [
            "111.8 252.40000000000003\n",
            "New array: [127.  252.4 111.8 220.  113.  116.  135. ]\n"
          ]
        }
      ]
    },
    {
      "cell_type": "code",
      "source": [
        "median = np.median(sample)# Replace with median\n",
        "for i in sample_outliers:\n",
        "    c = np.where(sample==i, 14, sample)\n",
        "print(\"Sample: \", sample)\n",
        "print(\"New array: \",c)\n",
        "# print(x.dtype)"
      ],
      "metadata": {
        "colab": {
          "base_uri": "https://localhost:8080/"
        },
        "id": "rBjN4cAnE01g",
        "outputId": "06087703-e952-4d7b-df9f-339fbe07f473"
      },
      "execution_count": null,
      "outputs": [
        {
          "output_type": "stream",
          "name": "stdout",
          "text": [
            "Sample:  [127, 301, 110, 220, 113, 116, 135]\n",
            "New array:  [127 301 110 220 113 116 135]\n"
          ]
        }
      ]
    },
    {
      "cell_type": "code",
      "source": [
        "plt.boxplot(b, vert=False)\n",
        "plt.title(\"Boxplot of the sample after treating the outliers\")\n",
        "plt.xlabel(\"Sample\")"
      ],
      "metadata": {
        "colab": {
          "base_uri": "https://localhost:8080/",
          "height": 312
        },
        "id": "a0VXDzB2E7ai",
        "outputId": "b9b76a3e-2731-4ae7-e78b-79a42b5ee235"
      },
      "execution_count": null,
      "outputs": [
        {
          "output_type": "execute_result",
          "data": {
            "text/plain": [
              "Text(0.5, 0, 'Sample')"
            ]
          },
          "metadata": {},
          "execution_count": 130
        },
        {
          "output_type": "display_data",
          "data": {
            "text/plain": [
              "<Figure size 432x288 with 1 Axes>"
            ],
            "image/png": "[encoded data removed]"
          },
          "metadata": {
            "needs_background": "light"
          }
        }
      ]
    }
  ]
}